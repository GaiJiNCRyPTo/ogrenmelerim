{
  "nbformat": 4,
  "nbformat_minor": 0,
  "metadata": {
    "colab": {
      "name": "ilkders.ipynb",
      "provenance": [],
      "toc_visible": true,
      "authorship_tag": "ABX9TyMWONYihZ7eBYF3uD1a/c9m",
      "include_colab_link": true
    },
    "kernelspec": {
      "name": "python3",
      "display_name": "Python 3"
    },
    "language_info": {
      "name": "python"
    }
  },
  "cells": [
    {
      "cell_type": "markdown",
      "metadata": {
        "id": "view-in-github",
        "colab_type": "text"
      },
      "source": [
        "<a href=\"https://colab.research.google.com/github/GaiJiNCRyPTo/ogrenmelerim/blob/ogrenmelerim/ilkders.ipynb\" target=\"_parent\"><img src=\"https://colab.research.google.com/assets/colab-badge.svg\" alt=\"Open In Colab\"/></a>"
      ]
    },
    {
      "cell_type": "code",
      "execution_count": 6,
      "metadata": {
        "colab": {
          "base_uri": "https://localhost:8080/"
        },
        "id": "bjkz5LfZYD5_",
        "outputId": "e745b0f1-d6b0-4f07-b155-f7bb79581eda"
      },
      "outputs": [
        {
          "output_type": "stream",
          "name": "stdout",
          "text": [
            "Lütfen adınızı yazın : Bahadır\n",
            "Merhaba Bahadır\n"
          ]
        }
      ],
      "source": [
        "# Bu bölümde ilk basit programımızı yazacağız.\n",
        "# Kullanıcıdan adını yazmasını isteyeceğiz ve ardından onu bir \"Merhaba\" ile selamlayacağız.\n",
        "\n",
        "ad = input(\"Lütfen adınızı yazın : \")\n",
        "print(\"Merhaba\", ad)"
      ]
    }
  ]
}