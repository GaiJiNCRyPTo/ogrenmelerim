{
  "nbformat": 4,
  "nbformat_minor": 0,
  "metadata": {
    "colab": {
      "name": "ilkders.ipynb",
      "provenance": [],
      "toc_visible": true,
      "authorship_tag": "ABX9TyOYBzTz6uvTiQ0+N9RIS30Y",
      "include_colab_link": true
    },
    "kernelspec": {
      "name": "python3",
      "display_name": "Python 3"
    },
    "language_info": {
      "name": "python"
    }
  },
  "cells": [
    {
      "cell_type": "markdown",
      "metadata": {
        "id": "view-in-github",
        "colab_type": "text"
      },
      "source": [
        "<a href=\"https://colab.research.google.com/github/GaiJiNCRyPTo/ogrenmelerim/blob/ogrenmelerim/ilkders.ipynb\" target=\"_parent\"><img src=\"https://colab.research.google.com/assets/colab-badge.svg\" alt=\"Open In Colab\"/></a>"
      ]
    },
    {
      "cell_type": "code",
      "execution_count": null,
      "metadata": {
        "id": "bjkz5LfZYD5_"
      },
      "outputs": [],
      "source": [
        "# Bu bölümde ilk basit programımızı yazacağız.\n",
        "# Kullanıcıdan adını yazmasını isteyeceğiz ve ardından onu bir \"Merhaba\" ile selamlayacağız.\n",
        "\n",
        "ad = input(\"Lütfen adınızı yazın : \")\n",
        "print(\"Merhaba\", ad)"
      ]
    },
    {
      "cell_type": "code",
      "source": [
        "# Bu bölümde üstteki bilgileri biraz daha geliştirerek farklı veriler tanımlamasını isteyeceğiz.\n",
        "# Kullanıcıdan adını, soyadını ve yaşını yazmasını isteyeceğiz ve ardından verdiği bilgileri kendisine göstereceğiz.\n",
        "\n",
        "print(\"Merhaba!\")\n",
        "\n",
        "ad = input(\"Lütfen adınızı yazın : \")\n",
        "\n",
        "soyad = input(\"Lütfen soyadınızı yazın : \")\n",
        "\n",
        "yas = int(input(\"Lütfen yaşınızı yazın : \"))\n",
        "\n",
        "print(\"Adınız : \", ad,\n",
        "      \"\\nSoyadınız : \", soyad,\n",
        "      \"\\nYaşınız : \", yas)\n"
      ],
      "metadata": {
        "id": "O_U_YKvxdhyE"
      },
      "execution_count": null,
      "outputs": []
    }
  ]
}